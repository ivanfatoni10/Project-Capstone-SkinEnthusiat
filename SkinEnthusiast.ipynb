{
  "cells": [
    {
      "cell_type": "markdown",
      "metadata": {
        "id": "qArgNswyhTCv"
      },
      "source": [
        "# Proyek Klasifikasi Gambar Kulit Wajah\n",
        "\n",
        "---\n",
        "\n"
      ]
    },
    {
      "cell_type": "markdown",
      "metadata": {
        "id": "prjwFWwkhTC-"
      },
      "source": [
        "## Menyiapkan Library"
      ]
    },
    {
      "cell_type": "code",
      "execution_count": null,
      "metadata": {
        "id": "-a6UU4rLhTC_"
      },
      "outputs": [],
      "source": [
        "import tensorflow as tf\n",
        "from tensorflow.keras.preprocessing.image import ImageDataGenerator\n",
        "from tensorflow.keras.applications import MobileNetV2\n",
        "from tensorflow.keras.layers import Input, Dense, GlobalAveragePooling2D, Dropout, BatchNormalization\n",
        "from tensorflow.keras.models import Model\n",
        "from tensorflow.keras.callbacks import EarlyStopping, ReduceLROnPlateau\n",
        "import numpy as np\n",
        "import matplotlib.pyplot as plt\n",
        "import pathlib\n",
        "import pandas as pd"
      ]
    },
    {
      "cell_type": "markdown",
      "metadata": {
        "id": "O4g0Sri4hTDA"
      },
      "source": [
        "## Preprocessing Data"
      ]
    },
    {
      "cell_type": "code",
      "execution_count": null,
      "metadata": {
        "colab": {
          "base_uri": "https://localhost:8080/"
        },
        "id": "QHLM0pEFKOjs",
        "outputId": "8587e720-c4e6-4ea7-a625-01bd76eaf7ca"
      },
      "outputs": [
        {
          "name": "stdout",
          "output_type": "stream",
          "text": [
            "Mounted at /content/drive\n"
          ]
        }
      ],
      "source": [
        "from google.colab import drive\n",
        "drive.mount('/content/drive')"
      ]
    },
    {
      "cell_type": "code",
      "execution_count": null,
      "metadata": {
        "colab": {
          "base_uri": "https://localhost:8080/"
        },
        "id": "ZxXSYJYNhTDA",
        "outputId": "d5881d4a-b6c7-4d04-b9d6-250290a0081d"
      },
      "outputs": [
        {
          "name": "stdout",
          "output_type": "stream",
          "text": [
            "Found 2756 images belonging to 3 classes.\n"
          ]
        }
      ],
      "source": [
        "# Path ke file dataset di Google Drive\n",
        "file_path = '/content/drive/My Drive/CAPSTONE/dataset'\n",
        "\n",
        "# Path ke direktori dataset\n",
        "TRAINING_DIR = \"/content/drive/My Drive/CAPSTONE/dataset/train\"\n",
        "VALIDATION_DIR = \"/content/drive/My Drive/CAPSTONE/dataset/val\"\n",
        "\n",
        "train_datagen = ImageDataGenerator(\n",
        "    rescale=1.0/255,\n",
        "    rotation_range=40,\n",
        "    width_shift_range=0.2,\n",
        "    height_shift_range=0.2,\n",
        "    shear_range=0.2,\n",
        "    zoom_range=0.2,\n",
        "    horizontal_flip=True,\n",
        "    fill_mode='nearest',\n",
        "    validation_split=0.1\n",
        ")\n",
        "\n",
        "train_generator = train_datagen.flow_from_directory(TRAINING_DIR,\n",
        "                                                    class_mode='categorical',\n",
        "                                                    target_size=(150, 150)\n",
        "                                                    )\n"
      ]
    },
    {
      "cell_type": "code",
      "execution_count": null,
      "metadata": {
        "colab": {
          "base_uri": "https://localhost:8080/"
        },
        "id": "dQk6eA38hTDB",
        "outputId": "c74676d3-67d6-4fc8-9f30-6c718dab5935"
      },
      "outputs": [
        {
          "name": "stdout",
          "output_type": "stream",
          "text": [
            "Found 321 images belonging to 3 classes.\n"
          ]
        }
      ],
      "source": [
        "validation_datagen = ImageDataGenerator(\n",
        "    rescale=1.0/255.\n",
        ")\n",
        "validation_generator = validation_datagen.flow_from_directory(VALIDATION_DIR,\n",
        "                                                        class_mode='categorical',\n",
        "                                                        target_size=(150, 150))\n"
      ]
    },
    {
      "cell_type": "markdown",
      "metadata": {
        "id": "taR6zARahTDB"
      },
      "source": [
        "## Membuat Model Klasifikasi Kelas"
      ]
    },
    {
      "cell_type": "code",
      "execution_count": null,
      "metadata": {
        "colab": {
          "base_uri": "https://localhost:8080/"
        },
        "id": "e8k00rPtlk6r",
        "outputId": "01f0baed-2c3f-4e61-e40b-8b68d72d51de"
      },
      "outputs": [
        {
          "name": "stderr",
          "output_type": "stream",
          "text": [
            "WARNING:tensorflow:`input_shape` is undefined or non-square, or `rows` is not in [96, 128, 160, 192, 224]. Weights for input shape (224, 224) will be loaded as the default.\n"
          ]
        },
        {
          "name": "stdout",
          "output_type": "stream",
          "text": [
            "Downloading data from https://storage.googleapis.com/tensorflow/keras-applications/mobilenet_v2/mobilenet_v2_weights_tf_dim_ordering_tf_kernels_1.0_224_no_top.h5\n",
            "9406464/9406464 [==============================] - 0s 0us/step\n"
          ]
        }
      ],
      "source": [
        "# Load MobileNetV2 pre-trained model tanpa lapisan atas (include_top=False)\n",
        "pre_trained_model = MobileNetV2(weights=\"imagenet\", include_top=False,\n",
        "                                input_shape=(150, 150, 3))\n",
        "                                # input_tensor=Input(shape=(150, 150, 3))"
      ]
    },
    {
      "cell_type": "code",
      "execution_count": null,
      "metadata": {
        "id": "GbnRQRWilwkx"
      },
      "outputs": [],
      "source": [
        "# Mengunci semua layer di model pre-trained\n",
        "# for layer in pre_trained_model.layers:\n",
        "#     layer.trainable = False\n",
        "\n",
        "pre_trained_model.trainable = False"
      ]
    },
    {
      "cell_type": "code",
      "execution_count": null,
      "metadata": {
        "id": "B_RNjED0lzk6"
      },
      "outputs": [],
      "source": [
        "# # Mendapatkan output dari model pre-trained\n",
        "# last_output = pre_trained_model.output"
      ]
    },
    {
      "cell_type": "code",
      "execution_count": null,
      "metadata": {
        "id": "83e2JYC-l2ac"
      },
      "outputs": [],
      "source": [
        "# Menambahkan lapisan custom di atas model pre-trained\n",
        "inputs = Input(shape=(150, 150, 3))\n",
        "x = pre_trained_model(inputs, training=False)\n",
        "x = GlobalAveragePooling2D()(x)\n",
        "x = BatchNormalization()(x)\n",
        "x = Dense(512, activation='relu')(x)\n",
        "x = Dropout(0.5)(x)  # Dropout untuk mengurangi overfitting\n",
        "outputs = Dense(3, activation='softmax')(x)  # Dua kelas: kering dan berminyak"
      ]
    },
    {
      "cell_type": "code",
      "execution_count": null,
      "metadata": {
        "id": "zm5gZXVnl_3f"
      },
      "outputs": [],
      "source": [
        "# Membuat model akhir\n",
        "model = Model(inputs, outputs)"
      ]
    },
    {
      "cell_type": "code",
      "execution_count": null,
      "metadata": {
        "id": "-eoadSn2mB9n"
      },
      "outputs": [],
      "source": [
        "# Kompilasi model\n",
        "model.compile(optimizer='adam', loss='categorical_crossentropy', metrics=['accuracy'])"
      ]
    },
    {
      "cell_type": "code",
      "execution_count": null,
      "metadata": {
        "colab": {
          "base_uri": "https://localhost:8080/"
        },
        "id": "jOVgfvQjmD2o",
        "outputId": "64056ac3-489a-46d7-cb79-a8256836b559"
      },
      "outputs": [
        {
          "name": "stdout",
          "output_type": "stream",
          "text": [
            "Model: \"model\"\n",
            "_________________________________________________________________\n",
            " Layer (type)                Output Shape              Param #   \n",
            "=================================================================\n",
            " input_2 (InputLayer)        [(None, 150, 150, 3)]     0         \n",
            "                                                                 \n",
            " mobilenetv2_1.00_224 (Func  (None, 5, 5, 1280)        2257984   \n",
            " tional)                                                         \n",
            "                                                                 \n",
            " global_average_pooling2d (  (None, 1280)              0         \n",
            " GlobalAveragePooling2D)                                         \n",
            "                                                                 \n",
            " batch_normalization (Batch  (None, 1280)              5120      \n",
            " Normalization)                                                  \n",
            "                                                                 \n",
            " dense (Dense)               (None, 512)               655872    \n",
            "                                                                 \n",
            " dropout (Dropout)           (None, 512)               0         \n",
            "                                                                 \n",
            " dense_1 (Dense)             (None, 3)                 1539      \n",
            "                                                                 \n",
            "=================================================================\n",
            "Total params: 2920515 (11.14 MB)\n",
            "Trainable params: 659971 (2.52 MB)\n",
            "Non-trainable params: 2260544 (8.62 MB)\n",
            "_________________________________________________________________\n"
          ]
        }
      ],
      "source": [
        "# Melihat arsitektur model\n",
        "model.summary()"
      ]
    },
    {
      "cell_type": "markdown",
      "metadata": {
        "id": "evt1PKxchTDC"
      },
      "source": [
        "## Melatih Model"
      ]
    },
    {
      "cell_type": "code",
      "execution_count": null,
      "metadata": {
        "colab": {
          "base_uri": "https://localhost:8080/"
        },
        "id": "S_w9-3PFhTDC",
        "outputId": "d6ac34a8-7804-4574-ee3e-9fcb1a5c5723"
      },
      "outputs": [
        {
          "name": "stdout",
          "output_type": "stream",
          "text": [
            "Epoch 1/200\n",
            "87/87 [==============================] - 480s 6s/step - loss: 1.5344 - accuracy: 0.4521 - val_loss: 1.2455 - val_accuracy: 0.4081\n",
            "Epoch 2/200\n",
            "87/87 [==============================] - 35s 404ms/step - loss: 1.2241 - accuracy: 0.5076 - val_loss: 1.4220 - val_accuracy: 0.3988\n",
            "Epoch 3/200\n",
            "87/87 [==============================] - 36s 411ms/step - loss: 1.1234 - accuracy: 0.5316 - val_loss: 1.1191 - val_accuracy: 0.5576\n",
            "Epoch 4/200\n",
            "87/87 [==============================] - 34s 386ms/step - loss: 1.0019 - accuracy: 0.5577 - val_loss: 1.3291 - val_accuracy: 0.3614\n",
            "Epoch 5/200\n",
            "87/87 [==============================] - 33s 377ms/step - loss: 0.9463 - accuracy: 0.5653 - val_loss: 1.2327 - val_accuracy: 0.4143\n",
            "Epoch 6/200\n",
            "87/87 [==============================] - 35s 398ms/step - loss: 0.9067 - accuracy: 0.5864 - val_loss: 1.2499 - val_accuracy: 0.3988\n",
            "Epoch 7/200\n",
            "87/87 [==============================] - 32s 371ms/step - loss: 0.8973 - accuracy: 0.5972 - val_loss: 1.4075 - val_accuracy: 0.3053\n",
            "Epoch 8/200\n",
            "87/87 [==============================] - 33s 380ms/step - loss: 0.8638 - accuracy: 0.6001 - val_loss: 1.4596 - val_accuracy: 0.2960\n",
            "Epoch 9/200\n",
            "87/87 [==============================] - 33s 375ms/step - loss: 0.8332 - accuracy: 0.6234 - val_loss: 1.3476 - val_accuracy: 0.3645\n",
            "Epoch 10/200\n",
            "87/87 [==============================] - 35s 401ms/step - loss: 0.8178 - accuracy: 0.6299 - val_loss: 1.7108 - val_accuracy: 0.2492\n",
            "Epoch 11/200\n",
            "87/87 [==============================] - 33s 374ms/step - loss: 0.8111 - accuracy: 0.6379 - val_loss: 1.4684 - val_accuracy: 0.3333\n",
            "Epoch 12/200\n",
            "87/87 [==============================] - 33s 378ms/step - loss: 0.8026 - accuracy: 0.6502 - val_loss: 1.1444 - val_accuracy: 0.5265\n",
            "Epoch 13/200\n",
            "87/87 [==============================] - 34s 391ms/step - loss: 0.7839 - accuracy: 0.6502 - val_loss: 1.4474 - val_accuracy: 0.3302\n",
            "Epoch 14/200\n",
            "87/87 [==============================] - 34s 389ms/step - loss: 0.7568 - accuracy: 0.6644 - val_loss: 1.2541 - val_accuracy: 0.4424\n",
            "Epoch 15/200\n",
            "87/87 [==============================] - 33s 378ms/step - loss: 0.7530 - accuracy: 0.6647 - val_loss: 1.3781 - val_accuracy: 0.4050\n",
            "Epoch 16/200\n",
            "87/87 [==============================] - 32s 371ms/step - loss: 0.7471 - accuracy: 0.6763 - val_loss: 1.6414 - val_accuracy: 0.2960\n",
            "Epoch 17/200\n",
            "87/87 [==============================] - 33s 377ms/step - loss: 0.7202 - accuracy: 0.6916 - val_loss: 1.3054 - val_accuracy: 0.4143\n",
            "Epoch 18/200\n",
            "87/87 [==============================] - 34s 386ms/step - loss: 0.7001 - accuracy: 0.6930 - val_loss: 1.5392 - val_accuracy: 0.3178\n",
            "Epoch 19/200\n",
            "87/87 [==============================] - 34s 387ms/step - loss: 0.7076 - accuracy: 0.6883 - val_loss: 1.4142 - val_accuracy: 0.3520\n",
            "Epoch 20/200\n",
            "87/87 [==============================] - 33s 385ms/step - loss: 0.6686 - accuracy: 0.7141 - val_loss: 1.4499 - val_accuracy: 0.3645\n",
            "Epoch 21/200\n",
            "87/87 [==============================] - 33s 379ms/step - loss: 0.6591 - accuracy: 0.7224 - val_loss: 1.4170 - val_accuracy: 0.4206\n",
            "Epoch 22/200\n",
            "87/87 [==============================] - 32s 371ms/step - loss: 0.6548 - accuracy: 0.7297 - val_loss: 1.6602 - val_accuracy: 0.3146\n",
            "Epoch 23/200\n",
            "87/87 [==============================] - 34s 389ms/step - loss: 0.6380 - accuracy: 0.7311 - val_loss: 1.6315 - val_accuracy: 0.3489\n",
            "Epoch 24/200\n",
            "87/87 [==============================] - 33s 376ms/step - loss: 0.6567 - accuracy: 0.7231 - val_loss: 1.3701 - val_accuracy: 0.4330\n",
            "Epoch 25/200\n",
            "87/87 [==============================] - 34s 388ms/step - loss: 0.6414 - accuracy: 0.7300 - val_loss: 1.3268 - val_accuracy: 0.4517\n",
            "Epoch 26/200\n",
            "87/87 [==============================] - 32s 368ms/step - loss: 0.6457 - accuracy: 0.7231 - val_loss: 1.4979 - val_accuracy: 0.3769\n",
            "Epoch 27/200\n",
            "87/87 [==============================] - 32s 367ms/step - loss: 0.6109 - accuracy: 0.7478 - val_loss: 1.4122 - val_accuracy: 0.4517\n",
            "Epoch 28/200\n",
            "87/87 [==============================] - 34s 385ms/step - loss: 0.5901 - accuracy: 0.7515 - val_loss: 1.9135 - val_accuracy: 0.3084\n",
            "Epoch 29/200\n",
            "87/87 [==============================] - 33s 383ms/step - loss: 0.5965 - accuracy: 0.7427 - val_loss: 1.6179 - val_accuracy: 0.3271\n",
            "Epoch 30/200\n",
            "87/87 [==============================] - 33s 378ms/step - loss: 0.5906 - accuracy: 0.7438 - val_loss: 1.7388 - val_accuracy: 0.2960\n",
            "Epoch 31/200\n",
            "87/87 [==============================] - 32s 370ms/step - loss: 0.5865 - accuracy: 0.7547 - val_loss: 1.7038 - val_accuracy: 0.3240\n",
            "Epoch 32/200\n",
            "87/87 [==============================] - 33s 376ms/step - loss: 0.5633 - accuracy: 0.7761 - val_loss: 1.6840 - val_accuracy: 0.3520\n",
            "Epoch 33/200\n",
            "87/87 [==============================] - 32s 372ms/step - loss: 0.5425 - accuracy: 0.7776 - val_loss: 1.9074 - val_accuracy: 0.3084\n",
            "Epoch 34/200\n",
            "87/87 [==============================] - 34s 386ms/step - loss: 0.5712 - accuracy: 0.7645 - val_loss: 1.6242 - val_accuracy: 0.3863\n",
            "Epoch 35/200\n",
            "87/87 [==============================] - 33s 376ms/step - loss: 0.5559 - accuracy: 0.7620 - val_loss: 1.4731 - val_accuracy: 0.4081\n",
            "Epoch 36/200\n",
            "87/87 [==============================] - 33s 379ms/step - loss: 0.5292 - accuracy: 0.7750 - val_loss: 1.6416 - val_accuracy: 0.3520\n",
            "Epoch 37/200\n",
            "87/87 [==============================] - 34s 389ms/step - loss: 0.5201 - accuracy: 0.7830 - val_loss: 1.9779 - val_accuracy: 0.3115\n",
            "Epoch 38/200\n",
            "87/87 [==============================] - 33s 376ms/step - loss: 0.5175 - accuracy: 0.7856 - val_loss: 1.6112 - val_accuracy: 0.3988\n",
            "Epoch 39/200\n",
            "87/87 [==============================] - 34s 395ms/step - loss: 0.5344 - accuracy: 0.7874 - val_loss: 1.3718 - val_accuracy: 0.4798\n",
            "Epoch 40/200\n",
            "87/87 [==============================] - 33s 382ms/step - loss: 0.5183 - accuracy: 0.7808 - val_loss: 1.5687 - val_accuracy: 0.4112\n",
            "Epoch 41/200\n",
            "87/87 [==============================] - 33s 378ms/step - loss: 0.5368 - accuracy: 0.7808 - val_loss: 1.4093 - val_accuracy: 0.4548\n",
            "Epoch 42/200\n",
            "87/87 [==============================] - 34s 391ms/step - loss: 0.5086 - accuracy: 0.7921 - val_loss: 1.7169 - val_accuracy: 0.3769\n",
            "Epoch 43/200\n",
            "87/87 [==============================] - 33s 378ms/step - loss: 0.5115 - accuracy: 0.7906 - val_loss: 1.5663 - val_accuracy: 0.4019\n",
            "Epoch 44/200\n",
            "87/87 [==============================] - 33s 375ms/step - loss: 0.4941 - accuracy: 0.8026 - val_loss: 1.5595 - val_accuracy: 0.4237\n",
            "Epoch 45/200\n",
            "87/87 [==============================] - 34s 395ms/step - loss: 0.4868 - accuracy: 0.8088 - val_loss: 2.0435 - val_accuracy: 0.3178\n",
            "Epoch 46/200\n",
            "87/87 [==============================] - 33s 378ms/step - loss: 0.4960 - accuracy: 0.7954 - val_loss: 1.6584 - val_accuracy: 0.3832\n",
            "Epoch 47/200\n",
            "87/87 [==============================] - 32s 373ms/step - loss: 0.4891 - accuracy: 0.7993 - val_loss: 1.5996 - val_accuracy: 0.4548\n",
            "Epoch 48/200\n",
            "87/87 [==============================] - 32s 372ms/step - loss: 0.4734 - accuracy: 0.8186 - val_loss: 1.7154 - val_accuracy: 0.4268\n",
            "Epoch 49/200\n",
            "87/87 [==============================] - 33s 377ms/step - loss: 0.5043 - accuracy: 0.8059 - val_loss: 1.9380 - val_accuracy: 0.3427\n",
            "Epoch 50/200\n",
            "87/87 [==============================] - 34s 394ms/step - loss: 0.4801 - accuracy: 0.8110 - val_loss: 1.7551 - val_accuracy: 0.4050\n",
            "Epoch 51/200\n",
            "87/87 [==============================] - 33s 378ms/step - loss: 0.4842 - accuracy: 0.8066 - val_loss: 2.1348 - val_accuracy: 0.2648\n",
            "Epoch 52/200\n",
            "87/87 [==============================] - 33s 377ms/step - loss: 0.4435 - accuracy: 0.8186 - val_loss: 1.8282 - val_accuracy: 0.3271\n",
            "Epoch 53/200\n",
            "87/87 [==============================] - 33s 377ms/step - loss: 0.4853 - accuracy: 0.8048 - val_loss: 1.7371 - val_accuracy: 0.3832\n",
            "Epoch 54/200\n",
            "87/87 [==============================] - 33s 380ms/step - loss: 0.4796 - accuracy: 0.8015 - val_loss: 1.8339 - val_accuracy: 0.3645\n",
            "Epoch 55/200\n",
            "87/87 [==============================] - 34s 393ms/step - loss: 0.4590 - accuracy: 0.8171 - val_loss: 1.7878 - val_accuracy: 0.3520\n",
            "Epoch 56/200\n",
            "87/87 [==============================] - 33s 382ms/step - loss: 0.4629 - accuracy: 0.8179 - val_loss: 1.6295 - val_accuracy: 0.4611\n",
            "Epoch 57/200\n",
            "87/87 [==============================] - 34s 385ms/step - loss: 0.4402 - accuracy: 0.8295 - val_loss: 1.7461 - val_accuracy: 0.3988\n",
            "Epoch 58/200\n",
            "87/87 [==============================] - 34s 390ms/step - loss: 0.4553 - accuracy: 0.8215 - val_loss: 1.7565 - val_accuracy: 0.3707\n",
            "Epoch 59/200\n",
            "87/87 [==============================] - 32s 373ms/step - loss: 0.4340 - accuracy: 0.8324 - val_loss: 1.6980 - val_accuracy: 0.4019\n",
            "Epoch 60/200\n",
            "87/87 [==============================] - 32s 366ms/step - loss: 0.4443 - accuracy: 0.8255 - val_loss: 1.7620 - val_accuracy: 0.3894\n",
            "Epoch 61/200\n",
            "87/87 [==============================] - 36s 414ms/step - loss: 0.4418 - accuracy: 0.8273 - val_loss: 2.0440 - val_accuracy: 0.3333\n",
            "Epoch 62/200\n",
            "87/87 [==============================] - 37s 432ms/step - loss: 0.4270 - accuracy: 0.8273 - val_loss: 1.8830 - val_accuracy: 0.3458\n",
            "Epoch 63/200\n",
            "87/87 [==============================] - 35s 400ms/step - loss: 0.4409 - accuracy: 0.8247 - val_loss: 1.8308 - val_accuracy: 0.3614\n",
            "Epoch 64/200\n",
            "87/87 [==============================] - 41s 470ms/step - loss: 0.4350 - accuracy: 0.8255 - val_loss: 1.9612 - val_accuracy: 0.3520\n",
            "Epoch 65/200\n",
            "87/87 [==============================] - 33s 381ms/step - loss: 0.4370 - accuracy: 0.8295 - val_loss: 2.0047 - val_accuracy: 0.3240\n",
            "Epoch 66/200\n",
            "87/87 [==============================] - 33s 382ms/step - loss: 0.4341 - accuracy: 0.8273 - val_loss: 1.8416 - val_accuracy: 0.3427\n",
            "Epoch 67/200\n",
            "87/87 [==============================] - 33s 380ms/step - loss: 0.4192 - accuracy: 0.8302 - val_loss: 1.9974 - val_accuracy: 0.3364\n",
            "Epoch 68/200\n",
            "87/87 [==============================] - 33s 385ms/step - loss: 0.4274 - accuracy: 0.8266 - val_loss: 1.9879 - val_accuracy: 0.3458\n",
            "Epoch 69/200\n",
            "87/87 [==============================] - 33s 381ms/step - loss: 0.4336 - accuracy: 0.8276 - val_loss: 1.8544 - val_accuracy: 0.3832\n",
            "Epoch 70/200\n",
            "87/87 [==============================] - 32s 373ms/step - loss: 0.3804 - accuracy: 0.8451 - val_loss: 2.3002 - val_accuracy: 0.2991\n",
            "Epoch 71/200\n",
            "87/87 [==============================] - 33s 377ms/step - loss: 0.3996 - accuracy: 0.8385 - val_loss: 2.3714 - val_accuracy: 0.3146\n",
            "Epoch 72/200\n",
            "87/87 [==============================] - 32s 363ms/step - loss: 0.4241 - accuracy: 0.8306 - val_loss: 2.0051 - val_accuracy: 0.3364\n",
            "Epoch 73/200\n",
            "87/87 [==============================] - 32s 369ms/step - loss: 0.4110 - accuracy: 0.8400 - val_loss: 2.0559 - val_accuracy: 0.3302\n",
            "Epoch 74/200\n",
            "87/87 [==============================] - 32s 370ms/step - loss: 0.4057 - accuracy: 0.8429 - val_loss: 1.8896 - val_accuracy: 0.3956\n",
            "Epoch 75/200\n",
            "87/87 [==============================] - 32s 369ms/step - loss: 0.3922 - accuracy: 0.8483 - val_loss: 2.3126 - val_accuracy: 0.3146\n",
            "Epoch 76/200\n",
            "87/87 [==============================] - 33s 378ms/step - loss: 0.4217 - accuracy: 0.8385 - val_loss: 2.3141 - val_accuracy: 0.2960\n",
            "Epoch 77/200\n",
            "87/87 [==============================] - 32s 365ms/step - loss: 0.3906 - accuracy: 0.8414 - val_loss: 1.9449 - val_accuracy: 0.3769\n",
            "Epoch 78/200\n",
            "37/87 [===========>..................] - ETA: 17s - loss: 0.4034 - accuracy: 0.8328"
          ]
        }
      ],
      "source": [
        "# Melatih model\n",
        "history = model.fit(\n",
        "    train_generator,\n",
        "    validation_data=validation_generator,\n",
        "    epochs=200,\n",
        "    verbose=1\n",
        ")"
      ]
    },
    {
      "cell_type": "code",
      "execution_count": null,
      "metadata": {
        "id": "7hfD-7cFy5dw"
      },
      "outputs": [],
      "source": [
        "858/858 [==============================] - 13s 15ms/step - loss: 0.4434 - accuracy: 0.8506 - val_loss: 0.2081 - val_accuracy: 0.9225"
      ]
    },
    {
      "cell_type": "code",
      "execution_count": null,
      "metadata": {
        "colab": {
          "background_save": true,
          "base_uri": "https://localhost:8080/"
        },
        "id": "akzvBg2Oy-SQ",
        "outputId": "dd3c856f-005e-46e9-e180-75564ab6aea0"
      },
      "outputs": [
        {
          "name": "stdout",
          "output_type": "stream",
          "text": [
            "Epoch 1/200\n",
            "87/87 [==============================] - 562s 6s/step - loss: 1.6646 - accuracy: 0.4224 - val_loss: 1.4463 - val_accuracy: 0.4393\n",
            "Epoch 2/200\n",
            "87/87 [==============================] - 93s 1s/step - loss: 1.3287 - accuracy: 0.4877 - val_loss: 1.8143 - val_accuracy: 0.2368\n",
            "Epoch 3/200\n",
            "87/87 [==============================] - 93s 1s/step - loss: 1.1142 - accuracy: 0.5250 - val_loss: 1.7072 - val_accuracy: 0.2586\n",
            "Epoch 4/200\n",
            "87/87 [==============================] - 91s 1s/step - loss: 1.0453 - accuracy: 0.5356 - val_loss: 1.3632 - val_accuracy: 0.3364\n",
            "Epoch 5/200\n",
            "87/87 [==============================] - 94s 1s/step - loss: 0.9455 - accuracy: 0.5657 - val_loss: 1.4399 - val_accuracy: 0.2804\n",
            "Epoch 6/200\n",
            "87/87 [==============================] - 93s 1s/step - loss: 0.9186 - accuracy: 0.5867 - val_loss: 1.3848 - val_accuracy: 0.3645\n",
            "Epoch 7/200\n",
            "87/87 [==============================] - 94s 1s/step - loss: 0.8715 - accuracy: 0.6092 - val_loss: 1.2594 - val_accuracy: 0.4206\n",
            "Epoch 8/200\n",
            "87/87 [==============================] - 91s 1s/step - loss: 0.8462 - accuracy: 0.6183 - val_loss: 1.4811 - val_accuracy: 0.3302\n",
            "Epoch 9/200\n",
            "87/87 [==============================] - 94s 1s/step - loss: 0.8838 - accuracy: 0.6001 - val_loss: 1.5493 - val_accuracy: 0.2773\n",
            "Epoch 10/200\n",
            "87/87 [==============================] - 93s 1s/step - loss: 0.8374 - accuracy: 0.6216 - val_loss: 1.3868 - val_accuracy: 0.3707\n",
            "Epoch 11/200\n",
            "87/87 [==============================] - 100s 1s/step - loss: 0.8129 - accuracy: 0.6393 - val_loss: 1.2141 - val_accuracy: 0.4766\n",
            "Epoch 12/200\n",
            "87/87 [==============================] - 92s 1s/step - loss: 0.8179 - accuracy: 0.6288 - val_loss: 1.4429 - val_accuracy: 0.3427\n",
            "Epoch 13/200\n",
            "87/87 [==============================] - 94s 1s/step - loss: 0.7997 - accuracy: 0.6390 - val_loss: 1.3603 - val_accuracy: 0.4330\n",
            "Epoch 14/200\n",
            "87/87 [==============================] - 94s 1s/step - loss: 0.7882 - accuracy: 0.6528 - val_loss: 1.4017 - val_accuracy: 0.3551\n",
            "Epoch 15/200\n",
            "87/87 [==============================] - 93s 1s/step - loss: 0.7681 - accuracy: 0.6589 - val_loss: 1.4328 - val_accuracy: 0.3364\n",
            "Epoch 16/200\n",
            "87/87 [==============================] - 94s 1s/step - loss: 0.7448 - accuracy: 0.6738 - val_loss: 1.3831 - val_accuracy: 0.3894\n",
            "Epoch 17/200\n",
            "87/87 [==============================] - 100s 1s/step - loss: 0.7083 - accuracy: 0.6927 - val_loss: 1.2544 - val_accuracy: 0.4735\n",
            "Epoch 18/200\n",
            "87/87 [==============================] - 94s 1s/step - loss: 0.7048 - accuracy: 0.6883 - val_loss: 1.3271 - val_accuracy: 0.4704\n",
            "Epoch 19/200\n",
            "87/87 [==============================] - 97s 1s/step - loss: 0.6917 - accuracy: 0.6959 - val_loss: 1.7251 - val_accuracy: 0.2710\n",
            "Epoch 20/200\n",
            "87/87 [==============================] - 97s 1s/step - loss: 0.6998 - accuracy: 0.7036 - val_loss: 1.2928 - val_accuracy: 0.4704\n",
            "Epoch 21/200\n",
            "87/87 [==============================] - ETA: 0s - loss: 0.6762 - accuracy: 0.7101Restoring model weights from the end of the best epoch: 11.\n",
            "87/87 [==============================] - 93s 1s/step - loss: 0.6762 - accuracy: 0.7101 - val_loss: 1.3024 - val_accuracy: 0.4268\n",
            "Epoch 21: early stopping\n"
          ]
        }
      ],
      "source": [
        "from tensorflow.keras.callbacks import EarlyStopping\n",
        "\n",
        "# Membuat callback EarlyStopping\n",
        "early_stopping = EarlyStopping(\n",
        "    monitor='val_loss',  # Metrik yang dipantau\n",
        "    patience=10,         # Jumlah epoch tanpa peningkatan setelah pelatihan dihentikan\n",
        "    verbose=1,           # Menampilkan pesan saat pelatihan dihentikan\n",
        "    restore_best_weights=True  # Mengembalikan bobot model ke yang terbaik\n",
        ")\n",
        "\n",
        "# Melatih model dengan Early Stopping\n",
        "history = model.fit(\n",
        "    train_generator,\n",
        "    validation_data=validation_generator,\n",
        "    epochs=200,\n",
        "    verbose=1,\n",
        "    callbacks=[early_stopping]  # Menambahkan callback ke dalam pelatihan\n",
        ")"
      ]
    },
    {
      "cell_type": "code",
      "execution_count": 12,
      "metadata": {
        "colab": {
          "base_uri": "https://localhost:8080/",
          "height": 699
        },
        "id": "qsSgX1o4nMIS",
        "outputId": "b648b8a5-e38c-4ef2-8ef8-40cf301197c8"
      },
      "outputs": [
        {
          "output_type": "display_data",
          "data": {
            "text/plain": [
              "<Figure size 1200x800 with 2 Axes>"
            ],
            "image/png": "[encoded data removed]"
          },
          "metadata": {}
        }
      ],
      "source": [
        "# Menampilkan akurasi dan loss dari pelatihan\n",
        "acc = history.history['accuracy']\n",
        "val_acc = history.history['val_accuracy']\n",
        "loss = history.history['loss']\n",
        "val_loss = history.history['val_loss']\n",
        "\n",
        "epochs = range(len(acc))\n",
        "\n",
        "plt.figure(figsize=(12, 8))\n",
        "\n",
        "plt.subplot(1, 2, 1)\n",
        "plt.plot(epochs, acc, 'r', label='Training accuracy')\n",
        "plt.plot(epochs, val_acc, 'b', label='Validation accuracy')\n",
        "plt.title('Training and Validation Accuracy')\n",
        "plt.legend()\n",
        "\n",
        "plt.subplot(1, 2, 2)\n",
        "plt.plot(epochs, loss, 'r', label='Training loss')\n",
        "plt.plot(epochs, val_loss, 'b', label='Validation loss')\n",
        "plt.title('Training and Validation Loss')\n",
        "plt.legend()\n",
        "\n",
        "plt.show()"
      ]
    },
    {
      "cell_type": "code",
      "execution_count": 13,
      "metadata": {
        "colab": {
          "base_uri": "https://localhost:8080/"
        },
        "id": "OTFdZZNnNpeV",
        "outputId": "fa940add-ec7a-441e-8d3a-4ac1c2af3919"
      },
      "outputs": [
        {
          "output_type": "stream",
          "name": "stderr",
          "text": [
            "/usr/local/lib/python3.10/dist-packages/keras/src/engine/training.py:3103: UserWarning: You are saving your model as an HDF5 file via `model.save()`. This file format is considered legacy. We recommend using instead the native Keras format, e.g. `model.save('my_model.keras')`.\n",
            "  saving_api.save_model(\n"
          ]
        }
      ],
      "source": [
        "model.save('skin_classifier_model.h5')"
      ]
    },
    {
      "cell_type": "code",
      "execution_count": 14,
      "metadata": {
        "colab": {
          "base_uri": "https://localhost:8080/"
        },
        "id": "YgURz-3Ag19Y",
        "outputId": "59a3c4f5-36d3-43f3-c125-cbd52e02f9ae"
      },
      "outputs": [
        {
          "output_type": "stream",
          "name": "stdout",
          "text": [
            "1/1 [==============================] - 1s 1s/step\n",
            "Gambar: /content/drive/My Drive/CAPSTONE/dataset/zilong.jpg - Prediksi: normal\n"
          ]
        }
      ],
      "source": [
        "import tensorflow as tf\n",
        "import numpy as np\n",
        "from tensorflow.keras.preprocessing import image\n",
        "from tensorflow.keras.models import load_model\n",
        "\n",
        "# Load model yang telah dilatih\n",
        "model_path = '/content/skin_classifier_model.h5'\n",
        "model = load_model(model_path)\n",
        "\n",
        "# Fungsi untuk memuat dan memproses gambar\n",
        "def load_and_preprocess_image(img_path, target_size=(150, 150)):\n",
        "    img = image.load_img(img_path, target_size=target_size)\n",
        "    img_array = image.img_to_array(img)\n",
        "    img_array = np.expand_dims(img_array, axis=0)\n",
        "    img_array = img_array / 255.0  # Normalisasi gambar\n",
        "    return img_array\n",
        "\n",
        "# Daftar path gambar untuk testing\n",
        "test_image_paths = [\n",
        "    '/content/drive/My Drive/CAPSTONE/dataset/zilong.jpg'\n",
        "    # Tambahkan path gambar lainnya\n",
        "]\n",
        "\n",
        "# Daftar kelas\n",
        "class_labels = ['normal', 'dry', 'oil']\n",
        "\n",
        "# Loop melalui setiap gambar untuk melakukan prediksi\n",
        "for img_path in test_image_paths:\n",
        "    img_array = load_and_preprocess_image(img_path)\n",
        "    predictions = model.predict(img_array)\n",
        "    predicted_class = class_labels[np.argmax(predictions)]\n",
        "\n",
        "    # Print hasil prediksi\n",
        "    print(f\"Gambar: {img_path} - Prediksi: {predicted_class}\")\n",
        "\n",
        "# # Fungsi untuk menguji satu gambar\n",
        "# def test_single_image(model, img_path):\n",
        "#     img_array = load_and_preprocess_image(img_path)\n",
        "#     predictions = model.predict(img_array)\n",
        "#     predicted_class = class_labels[np.argmax(predictions)]\n",
        "#     confidence = np.max(predictions)\n",
        "\n",
        "#     print(f\"Prediksi untuk gambar {img_path}:\")\n",
        "#     print(f\"Kelas: {predicted_class}, Kepercayaan: {confidence:.2f}\")\n",
        "\n",
        "# # # Test gambar tunggal\n",
        "# # single_test_image_path = '/content/drive/My Drive/CAPSTONE/dataset/dry1.jpg'\n",
        "# # test_single_image(model, single_test_image_path)\n"
      ]
    },
    {
      "cell_type": "markdown",
      "metadata": {
        "id": "y2PnxMRDggXr"
      },
      "source": [
        "## Rekomendasi Skincare berdasarkan Klasifikasi Kelas"
      ]
    },
    {
      "cell_type": "code",
      "execution_count": null,
      "metadata": {
        "id": "9fZYsQ6Rgrwx"
      },
      "outputs": [],
      "source": [
        "# Fungsi untuk menampilkan rekomendasi skincare\n",
        "def show_skincare_recommendation(pred_class):\n",
        "    if pred_class == 0:  # Kering\n",
        "        img_path = \"/content/drive/My Drive/skincare_A.jpg\"\n",
        "        img = mpimg.imread(img_path)\n",
        "        plt.imshow(img)\n",
        "        plt.axis('off')\n",
        "        plt.title(\"Rekomendasi Skincare: Produk A\")\n",
        "        plt.show()\n",
        "\n",
        "        print(\"Nama Produk: Produk A\")\n",
        "        print(\"Ingredients: .................\")\n",
        "        print(\"Khasiat: .....................\")\n",
        "        print(\"Cara Pemakaian: ...............\")\n",
        "    elif pred_class == 1:  # Berminyak\n",
        "        img_path = \"/content/drive/My Drive/skincare_B.jpg\"\n",
        "        img = mpimg.imread(img_path)\n",
        "        plt.imshow(img)\n",
        "        plt.axis('off')\n",
        "        plt.title(\"Rekomendasi Skincare: Produk B\")\n",
        "        plt.show()\n",
        "\n",
        "        print(\"Nama Produk: Produk B\")\n",
        "        print(\"Ingredients: ,.............\")\n",
        "        print(\"Khasiat: .....................\")\n",
        "        print(\"Cara Pemakaian: ..................\")"
      ]
    },
    {
      "cell_type": "code",
      "execution_count": null,
      "metadata": {
        "id": "kN6PpG2n44un"
      },
      "outputs": [],
      "source": [
        "# Import necessary libraries\n",
        "from tensorflow.keras.preprocessing.image import ImageDataGenerator\n",
        "from tensorflow.keras.models import load_model\n",
        "import numpy as np\n",
        "from PIL import Image\n",
        "\n",
        "# Load the trained model\n",
        "model = load_model('skin_classifier_model.h5')\n",
        "\n",
        "# Define the skincare recommendations\n",
        "recommendations = {\n",
        "    'oil': {\n",
        "        'name': 'Neutrogena Oil-Free Acne Wash',\n",
        "        'image': 'https://images.neutrogena.com/is/image/Neutrogena/oil-free-acne-wash-main?qlt=85,0&resMode=sharp2&op_usm=1.1,0.4,1,0&hei=408&wid=408',\n",
        "        'ingredients': ['Salicylic Acid (2%)', 'Water', 'Cocamidopropyl Betaine', 'Sodium C14-16 Olefin Sulfonate'],\n",
        "        'benefits': ['Menghilangkan minyak berlebih di kulit', 'Membantu mencegah jerawat', 'Membersihkan pori-pori secara mendalam'],\n",
        "        'usage': 'Basahi wajah dan oleskan produk ke tangan. Pijat lembut ke seluruh wajah, hindari area mata. Bilas hingga bersih dan keringkan.'\n",
        "    },\n",
        "    'dry': {\n",
        "        'name': 'Cetaphil Moisturizing Cream',\n",
        "        'image': 'https://www.cetaphil.com/dw/image/v2/BCCH_PRD/on/demandware.static/-/Sites-cetaphil-master-catalog/default/dw00c847d1/images/products/CET0060_1018.png',\n",
        "        'ingredients': ['Water', 'Glycerin', 'Petrolatum', 'Dimethicone'],\n",
        "        'benefits': ['Melembapkan kulit kering secara intensif', 'Membantu memperbaiki penghalang kelembapan alami kulit', 'Menenangkan kulit yang iritasi dan pecah-pecah'],\n",
        "        'usage': 'Oleskan krim pada kulit yang bersih. Pijat lembut hingga meresap sempurna. Gunakan dua kali sehari, pagi dan malam, atau sesuai kebutuhan.'\n",
        "    }\n",
        "}\n",
        "\n",
        "# Function to predict skin type\n",
        "def predict_skin_type(image_path):\n",
        "    img = Image.open(image_path).resize((150, 150))\n",
        "    img_array = np.array(img) / 255.0\n",
        "    img_array = np.expand_dims(img_array, axis=0)\n",
        "\n",
        "    prediction = model.predict(img_array)\n",
        "    class_idx = np.argmax(prediction, axis=1)[0]\n",
        "    return 'oil' if class_idx == 0 else 'dry'\n",
        "\n",
        "# Function to get skincare recommendation\n",
        "def get_recommendation(skin_type):\n",
        "    return recommendations[skin_type]\n",
        "\n",
        "# Example usage\n",
        "image_path = 'path_to_test_image.jpg'\n",
        "skin_type = predict_skin_type(image_path)\n",
        "recommendation = get_recommendation(skin_type)\n",
        "\n",
        "print(f\"Recommended skincare for {skin_type} skin:\")\n",
        "print(f\"Name: {recommendation['name']}\")\n",
        "print\n"
      ]
    },
    {
      "cell_type": "markdown",
      "metadata": {
        "id": "P1KFaX-ZhTDD"
      },
      "source": [
        "## Mengubah Model"
      ]
    },
    {
      "cell_type": "code",
      "execution_count": null,
      "metadata": {
        "id": "KcfLqFkwnvah"
      },
      "outputs": [],
      "source": [
        "# Konversi model Keras ke TFLite\n",
        "converter = tf.lite.TFLiteConverter.from_keras_model(model)\n",
        "tflite_model = converter.convert()"
      ]
    },
    {
      "cell_type": "code",
      "execution_count": null,
      "metadata": {
        "id": "X2-Y1jNPnyz0"
      },
      "outputs": [],
      "source": [
        "# Menyimpan model TFLite\n",
        "tflite_model_path = \"/content/drive/My Drive/CAPSTONE/skinenthusiastmodel.tflite\"\n",
        "with open(tflite_model_path, 'wb') as f:\n",
        "    f.write(tflite_model)"
      ]
    },
    {
      "cell_type": "code",
      "execution_count": null,
      "metadata": {
        "id": "LarMrXh_n8Z0"
      },
      "outputs": [],
      "source": [
        "#################"
      ]
    }
  ],
  "metadata": {
    "accelerator": "GPU",
    "colab": {
      "gpuType": "T4",
      "provenance": []
    },
    "interpreter": {
      "hash": "bec548f1eaa5f791e61300a57b6bdf324df859493cf8e5c89b07d9effee2d662"
    },
    "kernelspec": {
      "display_name": "Python 3",
      "name": "python3"
    },
    "language_info": {
      "codemirror_mode": {
        "name": "ipython",
        "version": 3
      },
      "file_extension": ".py",
      "mimetype": "text/x-python",
      "name": "python",
      "nbconvert_exporter": "python",
      "pygments_lexer": "ipython3",
      "version": "3.8.8"
    }
  },
  "nbformat": 4,
  "nbformat_minor": 0
}